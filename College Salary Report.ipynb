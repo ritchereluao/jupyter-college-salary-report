{
 "cells": [
  {
   "cell_type": "code",
   "execution_count": 1,
   "id": "0a7d1638",
   "metadata": {},
   "outputs": [],
   "source": [
    "from bs4 import BeautifulSoup\n",
    "import requests\n",
    "import pandas as pd"
   ]
  },
  {
   "cell_type": "code",
   "execution_count": 42,
   "id": "57edcef5",
   "metadata": {},
   "outputs": [],
   "source": [
    "rank_list = []\n",
    "major_list = []\n",
    "degree_list = []\n",
    "early_pays = []\n",
    "mid_pays = []\n",
    "high_means = []\n",
    "\n",
    "for n in range(1, 2):\n",
    "    url = f\"https://www.payscale.com/college-salary-report/majors-that-pay-you-back/bachelors/page/{n}\"\n",
    "    response = requests.get(url=url)\n",
    "    soup = BeautifulSoup(response.text, \"html.parser\")\n",
    "\n",
    "\n",
    "    table = soup.select(\".data-table__value\")\n",
    "    table_list = [row.getText() for row in table]\n",
    "    # print(table_list)\n",
    "    \n",
    "    for i in range(0, len(table_list), 6):\n",
    "        rank_list.append(table_list[i])\n",
    "\n",
    "    for i in range(1, len(table_list), 6):\n",
    "        major_list.append(table_list[i])\n",
    "\n",
    "    for i in range(2, len(table_list), 6):\n",
    "        degree_list.append(table_list[i])\n",
    "\n",
    "    for i in range(3, len(table_list), 6):\n",
    "        early_pays.append(int(table_list[i].strip(\"$\").replace(\",\", \"\")))\n",
    "\n",
    "    for i in range(4, len(table_list), 6):\n",
    "        mid_pays.append(int(table_list[i].strip(\"$\").replace(\",\", \"\")))\n",
    "\n",
    "    for i in range(5, len(table_list), 6):\n",
    "        high_means.append(table_list[i])\n",
    "\n",
    "\n",
    "data_dict = {\n",
    "    \"Rank\": rank_list,\n",
    "    \"Major\": major_list,\n",
    "    \"Degree Type\": degree_list,\n",
    "    \"Early Career Pay\": early_pays,\n",
    "    \"Mid-Career Pay\": mid_pays,\n",
    "    \"% High Meaning\": high_means,\n",
    "}\n",
    "\n",
    "data = pd.DataFrame(data_dict)\n",
    "# data.to_csv(\"college_salary_report.csv\")"
   ]
  },
  {
   "cell_type": "code",
   "execution_count": 43,
   "id": "d5a1ce57",
   "metadata": {},
   "outputs": [
    {
     "data": {
      "text/html": [
       "<div>\n",
       "<style scoped>\n",
       "    .dataframe tbody tr th:only-of-type {\n",
       "        vertical-align: middle;\n",
       "    }\n",
       "\n",
       "    .dataframe tbody tr th {\n",
       "        vertical-align: top;\n",
       "    }\n",
       "\n",
       "    .dataframe thead th {\n",
       "        text-align: right;\n",
       "    }\n",
       "</style>\n",
       "<table border=\"1\" class=\"dataframe\">\n",
       "  <thead>\n",
       "    <tr style=\"text-align: right;\">\n",
       "      <th></th>\n",
       "      <th>Rank</th>\n",
       "      <th>Major</th>\n",
       "      <th>Degree Type</th>\n",
       "      <th>Early Career Pay</th>\n",
       "      <th>Mid-Career Pay</th>\n",
       "      <th>% High Meaning</th>\n",
       "    </tr>\n",
       "  </thead>\n",
       "  <tbody>\n",
       "    <tr>\n",
       "      <th>0</th>\n",
       "      <td>1</td>\n",
       "      <td>Petroleum Engineering</td>\n",
       "      <td>Bachelors</td>\n",
       "      <td>93200</td>\n",
       "      <td>187300</td>\n",
       "      <td>67%</td>\n",
       "    </tr>\n",
       "    <tr>\n",
       "      <th>1</th>\n",
       "      <td>2</td>\n",
       "      <td>Operations Research &amp; Industrial Engineering</td>\n",
       "      <td>Bachelors</td>\n",
       "      <td>84800</td>\n",
       "      <td>170400</td>\n",
       "      <td>28%</td>\n",
       "    </tr>\n",
       "    <tr>\n",
       "      <th>2</th>\n",
       "      <td>3</td>\n",
       "      <td>Electrical Engineering &amp; Computer Science (EECS)</td>\n",
       "      <td>Bachelors</td>\n",
       "      <td>108500</td>\n",
       "      <td>159300</td>\n",
       "      <td>46%</td>\n",
       "    </tr>\n",
       "    <tr>\n",
       "      <th>3</th>\n",
       "      <td>4</td>\n",
       "      <td>Interaction Design</td>\n",
       "      <td>Bachelors</td>\n",
       "      <td>68300</td>\n",
       "      <td>155800</td>\n",
       "      <td>55%</td>\n",
       "    </tr>\n",
       "    <tr>\n",
       "      <th>4</th>\n",
       "      <td>5</td>\n",
       "      <td>Public Accounting</td>\n",
       "      <td>Bachelors</td>\n",
       "      <td>59800</td>\n",
       "      <td>147700</td>\n",
       "      <td>47%</td>\n",
       "    </tr>\n",
       "  </tbody>\n",
       "</table>\n",
       "</div>"
      ],
      "text/plain": [
       "  Rank                                             Major Degree Type  \\\n",
       "0    1                             Petroleum Engineering   Bachelors   \n",
       "1    2      Operations Research & Industrial Engineering   Bachelors   \n",
       "2    3  Electrical Engineering & Computer Science (EECS)   Bachelors   \n",
       "3    4                                Interaction Design   Bachelors   \n",
       "4    5                                 Public Accounting   Bachelors   \n",
       "\n",
       "   Early Career Pay  Mid-Career Pay % High Meaning  \n",
       "0             93200          187300            67%  \n",
       "1             84800          170400            28%  \n",
       "2            108500          159300            46%  \n",
       "3             68300          155800            55%  \n",
       "4             59800          147700            47%  "
      ]
     },
     "execution_count": 43,
     "metadata": {},
     "output_type": "execute_result"
    }
   ],
   "source": [
    "data.head()"
   ]
  },
  {
   "cell_type": "code",
   "execution_count": 44,
   "id": "6747c3d8",
   "metadata": {},
   "outputs": [
    {
     "data": {
      "text/plain": [
       "(827, 6)"
      ]
     },
     "execution_count": 44,
     "metadata": {},
     "output_type": "execute_result"
    }
   ],
   "source": [
    "data.shape"
   ]
  },
  {
   "cell_type": "markdown",
   "id": "081c743a",
   "metadata": {},
   "source": [
    "#### What college major has the highest mid-career salary? How much do graduates with this major earn? (Mid-career is defined as having 10+ years of experience)."
   ]
  },
  {
   "cell_type": "code",
   "execution_count": 45,
   "id": "8e6e10a6",
   "metadata": {},
   "outputs": [
    {
     "name": "stdout",
     "output_type": "stream",
     "text": [
      "187300\n",
      "Index for the max mid career salary: 0\n"
     ]
    },
    {
     "data": {
      "text/plain": [
       "'Petroleum Engineering'"
      ]
     },
     "execution_count": 45,
     "metadata": {},
     "output_type": "execute_result"
    }
   ],
   "source": [
    "print(data[\"Mid-Career Pay\"].max())\n",
    "print(f\"Index for the max mid career salary: {data['Mid-Career Pay'].idxmax()}\")\n",
    "data[\"Major\"][0]"
   ]
  },
  {
   "cell_type": "markdown",
   "id": "bba6d541",
   "metadata": {},
   "source": [
    "#### Majors with the Highest Potential"
   ]
  },
  {
   "cell_type": "code",
   "execution_count": 50,
   "id": "dd43c0fc",
   "metadata": {},
   "outputs": [
    {
     "data": {
      "text/html": [
       "<div>\n",
       "<style scoped>\n",
       "    .dataframe tbody tr th:only-of-type {\n",
       "        vertical-align: middle;\n",
       "    }\n",
       "\n",
       "    .dataframe tbody tr th {\n",
       "        vertical-align: top;\n",
       "    }\n",
       "\n",
       "    .dataframe thead th {\n",
       "        text-align: right;\n",
       "    }\n",
       "</style>\n",
       "<table border=\"1\" class=\"dataframe\">\n",
       "  <thead>\n",
       "    <tr style=\"text-align: right;\">\n",
       "      <th></th>\n",
       "      <th>Major</th>\n",
       "      <th>Mid-Career Pay</th>\n",
       "    </tr>\n",
       "  </thead>\n",
       "  <tbody>\n",
       "    <tr>\n",
       "      <th>0</th>\n",
       "      <td>Petroleum Engineering</td>\n",
       "      <td>187300</td>\n",
       "    </tr>\n",
       "    <tr>\n",
       "      <th>1</th>\n",
       "      <td>Operations Research &amp; Industrial Engineering</td>\n",
       "      <td>170400</td>\n",
       "    </tr>\n",
       "    <tr>\n",
       "      <th>2</th>\n",
       "      <td>Electrical Engineering &amp; Computer Science (EECS)</td>\n",
       "      <td>159300</td>\n",
       "    </tr>\n",
       "    <tr>\n",
       "      <th>3</th>\n",
       "      <td>Interaction Design</td>\n",
       "      <td>155800</td>\n",
       "    </tr>\n",
       "    <tr>\n",
       "      <th>4</th>\n",
       "      <td>Public Accounting</td>\n",
       "      <td>147700</td>\n",
       "    </tr>\n",
       "  </tbody>\n",
       "</table>\n",
       "</div>"
      ],
      "text/plain": [
       "                                              Major  Mid-Career Pay\n",
       "0                             Petroleum Engineering          187300\n",
       "1      Operations Research & Industrial Engineering          170400\n",
       "2  Electrical Engineering & Computer Science (EECS)          159300\n",
       "3                                Interaction Design          155800\n",
       "4                                 Public Accounting          147700"
      ]
     },
     "execution_count": 50,
     "metadata": {},
     "output_type": "execute_result"
    }
   ],
   "source": [
    "highest_potential = data.sort_values('Mid-Career Pay', ascending=False)\n",
    "highest_potential[['Major', 'Mid-Career Pay']].head()"
   ]
  },
  {
   "cell_type": "markdown",
   "id": "97769612",
   "metadata": {},
   "source": [
    "#### Which college major has the lowest starting salary and how much do graduates earn after university?"
   ]
  },
  {
   "cell_type": "code",
   "execution_count": 51,
   "id": "7a7a6aad",
   "metadata": {},
   "outputs": [
    {
     "name": "stdout",
     "output_type": "stream",
     "text": [
      "34500\n"
     ]
    },
    {
     "data": {
      "text/plain": [
       "'Voice & Opera'"
      ]
     },
     "execution_count": 51,
     "metadata": {},
     "output_type": "execute_result"
    }
   ],
   "source": [
    "print(data['Early Career Pay'].min())\n",
    "data['Major'].loc[data['Early Career Pay'].idxmin()]"
   ]
  },
  {
   "cell_type": "markdown",
   "id": "33a54974",
   "metadata": {},
   "source": [
    "#### Which college major has the lowest mid-career salary and how much can people expect to earn with this degree?"
   ]
  },
  {
   "cell_type": "code",
   "execution_count": 52,
   "id": "ca4e44f8",
   "metadata": {},
   "outputs": [
    {
     "name": "stdout",
     "output_type": "stream",
     "text": [
      "40300\n"
     ]
    },
    {
     "data": {
      "text/plain": [
       "'Metalsmithing'"
      ]
     },
     "execution_count": 52,
     "metadata": {},
     "output_type": "execute_result"
    }
   ],
   "source": [
    "print(data['Mid-Career Pay'].min())\n",
    "data['Major'].loc[data['Mid-Career Pay'].idxmin()]"
   ]
  },
  {
   "cell_type": "code",
   "execution_count": null,
   "id": "700a18c3",
   "metadata": {},
   "outputs": [],
   "source": []
  }
 ],
 "metadata": {
  "kernelspec": {
   "display_name": "Python 3 (ipykernel)",
   "language": "python",
   "name": "python3"
  },
  "language_info": {
   "codemirror_mode": {
    "name": "ipython",
    "version": 3
   },
   "file_extension": ".py",
   "mimetype": "text/x-python",
   "name": "python",
   "nbconvert_exporter": "python",
   "pygments_lexer": "ipython3",
   "version": "3.9.7"
  }
 },
 "nbformat": 4,
 "nbformat_minor": 5
}
